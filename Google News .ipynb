{
 "cells": [
  {
   "cell_type": "markdown",
   "id": "ca7f5bb9",
   "metadata": {},
   "source": [
    "## Import GoogleNews\n"
   ]
  },
  {
   "cell_type": "code",
   "execution_count": 20,
   "id": "71cdae5c",
   "metadata": {},
   "outputs": [],
   "source": [
    "from GoogleNews  import GoogleNews\n",
    "import pandas as pd\n",
    "\n",
    "# googlenews = GoogleNews()\n"
   ]
  },
  {
   "cell_type": "markdown",
   "id": "fce6d196",
   "metadata": {},
   "source": [
    "## Get The News \n"
   ]
  },
  {
   "cell_type": "code",
   "execution_count": 2,
   "id": "3a9824e2",
   "metadata": {},
   "outputs": [],
   "source": [
    "# googlenews.search('Corona')\n",
    "\n",
    "# search = googlenews.result()\n"
   ]
  },
  {
   "cell_type": "code",
   "execution_count": 3,
   "id": "32956d3e",
   "metadata": {},
   "outputs": [],
   "source": [
    "# search = pd.DataFrame(search)"
   ]
  },
  {
   "cell_type": "markdown",
   "id": "5f9dfa80",
   "metadata": {},
   "source": [
    "## Get Title and Link"
   ]
  },
  {
   "cell_type": "code",
   "execution_count": 30,
   "id": "1cd8c045",
   "metadata": {},
   "outputs": [],
   "source": [
    "def getnews(topic):\n",
    "    news_data = []\n",
    "    gn = GoogleNews()\n",
    "    gn.get_news(topic)\n",
    "    search = gn.result()\n",
    "    for item in search:\n",
    "        sub_data = {\n",
    "            'title' : item['title'],\n",
    "            'link' : item['link']\n",
    "        }\n",
    "        news_data.append(sub_data)\n",
    "    return news_data\n",
    "        "
   ]
  },
  {
   "cell_type": "code",
   "execution_count": 31,
   "id": "c748f29f",
   "metadata": {},
   "outputs": [
    {
     "name": "stdout",
     "output_type": "stream",
     "text": [
      "Enter the Topic name : py\n",
      "<class 'pandas.core.frame.DataFrame'>\n"
     ]
    }
   ],
   "source": [
    "topic = input(\"Enter the Topic name : \")\n",
    "news = getnews(topic)\n",
    "news = pd.DataFrame(news)\n",
    "news_data = news.style.set_properties(**{'text-align': 'left'}).set_table_styles([dict(selector = 'th', props=[('text-align', 'left')])])\n",
    "# news_data\n",
    "print(type(news))"
   ]
  },
  {
   "cell_type": "markdown",
   "id": "a2e0ac09",
   "metadata": {},
   "source": [
    "## Store into Csv and Json File"
   ]
  },
  {
   "cell_type": "code",
   "execution_count": 36,
   "id": "a04a235f",
   "metadata": {},
   "outputs": [],
   "source": [
    "news.to_csv('GoogleNews_' + topic +'.csv')\n",
    "news.to_json('GoogleNews_' + topic +'.json')"
   ]
  },
  {
   "cell_type": "code",
   "execution_count": 33,
   "id": "0bbab066",
   "metadata": {},
   "outputs": [
    {
     "ename": "AttributeError",
     "evalue": "'function' object has no attribute 'to_json'",
     "output_type": "error",
     "traceback": [
      "\u001b[1;31m---------------------------------------------------------------------------\u001b[0m",
      "\u001b[1;31mAttributeError\u001b[0m                            Traceback (most recent call last)",
      "\u001b[1;32m<ipython-input-33-d76465d119d5>\u001b[0m in \u001b[0;36m<module>\u001b[1;34m\u001b[0m\n\u001b[1;32m----> 1\u001b[1;33m \u001b[0mnews\u001b[0m\u001b[1;33m.\u001b[0m\u001b[0mto_csv\u001b[0m\u001b[1;33m.\u001b[0m\u001b[0mto_json\u001b[0m\u001b[1;33m(\u001b[0m\u001b[1;34m'GoogleNews_'\u001b[0m \u001b[1;33m+\u001b[0m \u001b[0mtopic\u001b[0m \u001b[1;33m+\u001b[0m\u001b[1;34m'.csv'\u001b[0m\u001b[1;33m)\u001b[0m\u001b[1;33m\u001b[0m\u001b[1;33m\u001b[0m\u001b[0m\n\u001b[0m",
      "\u001b[1;31mAttributeError\u001b[0m: 'function' object has no attribute 'to_json'"
     ]
    }
   ],
   "source": []
  },
  {
   "cell_type": "code",
   "execution_count": null,
   "id": "7d7c6bd4",
   "metadata": {},
   "outputs": [],
   "source": []
  }
 ],
 "metadata": {
  "kernelspec": {
   "display_name": "Python 3",
   "language": "python",
   "name": "python3"
  },
  "language_info": {
   "codemirror_mode": {
    "name": "ipython",
    "version": 3
   },
   "file_extension": ".py",
   "mimetype": "text/x-python",
   "name": "python",
   "nbconvert_exporter": "python",
   "pygments_lexer": "ipython3",
   "version": "3.8.5"
  }
 },
 "nbformat": 4,
 "nbformat_minor": 5
}
